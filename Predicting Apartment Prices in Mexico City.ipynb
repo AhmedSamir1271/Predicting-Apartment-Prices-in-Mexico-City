{
 "cells": [
  {
   "cell_type": "code",
   "execution_count": 7,
   "id": "b6e81bae",
   "metadata": {},
   "outputs": [],
   "source": [
    "# Import libraries\n",
    "import matplotlib.pyplot as plt\n",
    "import plotly.express as px\n",
    "import pandas as pd\n",
    "import seaborn as sns\n",
    "from glob import glob\n",
    "from category_encoders import OneHotEncoder\n",
    "from sklearn.impute import SimpleImputer\n",
    "from sklearn.linear_model import Ridge\n",
    "from sklearn.metrics import mean_absolute_error\n",
    "from sklearn.pipeline import make_pipeline"
   ]
  },
  {
   "cell_type": "code",
   "execution_count": 8,
   "id": "9da362be",
   "metadata": {},
   "outputs": [],
   "source": [
    "# Prepare the data by building the wrangle function\n",
    "def wrangle(filepath):\n",
    "    # Read CSV file\n",
    "    df = pd.read_csv(filepath)\n",
    "    \n",
    "    # Subset data: Apartments in \"Distrito Federal\", less than $100,000\n",
    "    mask_apt = df[\"property_type\"] == \"apartment\"\n",
    "    mask_df = df[\"place_with_parent_names\"].str.contains(\"Distrito Federal\")\n",
    "    mask_price = df[\"price_aprox_usd\"] < 100_000\n",
    "    df = df[mask_apt & mask_df & mask_price]\n",
    "    \n",
    "    # Subset data: Remove outliers for \"surface_covered_in_m2\"\n",
    "    low, high = df[\"surface_covered_in_m2\"].quantile([0.1, 0.9])\n",
    "    mask_area = df[\"surface_covered_in_m2\"].between(low, high)\n",
    "    df = df[mask_area]\n",
    "    \n",
    "    # Split \"lat-lon\" column\n",
    "    df[[\"lat\", \"lon\"]] = df[\"lat-lon\"].str.split(\",\", expand=True).astype(float)\n",
    "    df.drop(columns=\"lat-lon\", inplace=True)\n",
    "    \n",
    "    # Get borough name\n",
    "    df[\"borough\"] = df[\"place_with_parent_names\"].str.split(\"|\", expand=True)[1]\n",
    "    df.drop(columns=\"place_with_parent_names\", inplace=True)\n",
    "    \n",
    "    # Drop columns with more than 50% null values\n",
    "    df.drop(columns=[\"surface_total_in_m2\", \"price_usd_per_m2\", \"floor\", \"rooms\", \"expenses\"], inplace=True)\n",
    "    \n",
    "    # Drop columns with low- or high-cardinality categorical values\n",
    "    df.drop(columns=[\"operation\", \"property_type\", \"currency\", \"properati_url\"], inplace=True)\n",
    "    \n",
    "    # Drop columns with leakage for the target \"price_aprox_usd\"\n",
    "    df.drop(columns=[\n",
    "        \"price\",\n",
    "        \"price_aprox_local_currency\",\n",
    "        \"price_per_m2\"\n",
    "    ], inplace=True)\n",
    "    \n",
    "    return df"
   ]
  },
  {
   "cell_type": "code",
   "execution_count": 13,
   "id": "93e07c50",
   "metadata": {},
   "outputs": [
    {
     "data": {
      "image/png": "[encoded data removed]",
      "text/plain": [
       "<Figure size 432x288 with 2 Axes>"
      ]
     },
     "metadata": {
      "needs_background": "light"
     },
     "output_type": "display_data"
    }
   ],
   "source": [
    "# Test the wrangle function and explore the data\n",
    "df = wrangle(\"data/mexico-city-real-estate-1.csv\")\n",
    "sns.heatmap(df.select_dtypes(\"number\").drop(columns=\"price_aprox_usd\").corr());"
   ]
  },
  {
   "cell_type": "code",
   "execution_count": 14,
   "id": "b149c2be",
   "metadata": {},
   "outputs": [
    {
     "data": {
      "text/plain": [
       "['data\\\\mexico-city-real-estate-1.csv',\n",
       " 'data\\\\mexico-city-real-estate-2.csv',\n",
       " 'data\\\\mexico-city-real-estate-3.csv',\n",
       " 'data\\\\mexico-city-real-estate-4.csv',\n",
       " 'data\\\\mexico-city-real-estate-5.csv']"
      ]
     },
     "execution_count": 14,
     "metadata": {},
     "output_type": "execute_result"
    }
   ],
   "source": [
    "# Use glob to create the list files\n",
    "files = glob(\"data/mexico-city-real-estate-*.csv\")\n",
    "files"
   ]
  },
  {
   "cell_type": "code",
   "execution_count": 15,
   "id": "55a914fb",
   "metadata": {},
   "outputs": [
    {
     "name": "stdout",
     "output_type": "stream",
     "text": [
      "<class 'pandas.core.frame.DataFrame'>\n",
      "RangeIndex: 5473 entries, 0 to 5472\n",
      "Data columns (total 6 columns):\n",
      " #   Column                 Non-Null Count  Dtype  \n",
      "---  ------                 --------------  -----  \n",
      " 0   Unnamed: 0             5473 non-null   int64  \n",
      " 1   price_aprox_usd        5473 non-null   float64\n",
      " 2   surface_covered_in_m2  5473 non-null   float64\n",
      " 3   lat                    5149 non-null   float64\n",
      " 4   lon                    5149 non-null   float64\n",
      " 5   borough                5473 non-null   object \n",
      "dtypes: float64(4), int64(1), object(1)\n",
      "memory usage: 256.7+ KB\n",
      "None\n"
     ]
    },
    {
     "data": {
      "text/html": [
       "<div>\n",
       "<style scoped>\n",
       "    .dataframe tbody tr th:only-of-type {\n",
       "        vertical-align: middle;\n",
       "    }\n",
       "\n",
       "    .dataframe tbody tr th {\n",
       "        vertical-align: top;\n",
       "    }\n",
       "\n",
       "    .dataframe thead th {\n",
       "        text-align: right;\n",
       "    }\n",
       "</style>\n",
       "<table border=\"1\" class=\"dataframe\">\n",
       "  <thead>\n",
       "    <tr style=\"text-align: right;\">\n",
       "      <th></th>\n",
       "      <th>Unnamed: 0</th>\n",
       "      <th>price_aprox_usd</th>\n",
       "      <th>surface_covered_in_m2</th>\n",
       "      <th>lat</th>\n",
       "      <th>lon</th>\n",
       "      <th>borough</th>\n",
       "    </tr>\n",
       "  </thead>\n",
       "  <tbody>\n",
       "    <tr>\n",
       "      <th>0</th>\n",
       "      <td>12</td>\n",
       "      <td>94022.66</td>\n",
       "      <td>57.0</td>\n",
       "      <td>23.634501</td>\n",
       "      <td>-102.552788</td>\n",
       "      <td>Benito Juárez</td>\n",
       "    </tr>\n",
       "    <tr>\n",
       "      <th>1</th>\n",
       "      <td>21</td>\n",
       "      <td>70880.12</td>\n",
       "      <td>56.0</td>\n",
       "      <td>19.402413</td>\n",
       "      <td>-99.095391</td>\n",
       "      <td>Iztacalco</td>\n",
       "    </tr>\n",
       "    <tr>\n",
       "      <th>2</th>\n",
       "      <td>22</td>\n",
       "      <td>68228.99</td>\n",
       "      <td>80.0</td>\n",
       "      <td>19.357820</td>\n",
       "      <td>-99.149406</td>\n",
       "      <td>Benito Juárez</td>\n",
       "    </tr>\n",
       "    <tr>\n",
       "      <th>3</th>\n",
       "      <td>23</td>\n",
       "      <td>24235.78</td>\n",
       "      <td>60.0</td>\n",
       "      <td>19.504985</td>\n",
       "      <td>-99.208557</td>\n",
       "      <td>Azcapotzalco</td>\n",
       "    </tr>\n",
       "    <tr>\n",
       "      <th>4</th>\n",
       "      <td>27</td>\n",
       "      <td>94140.20</td>\n",
       "      <td>50.0</td>\n",
       "      <td>19.354219</td>\n",
       "      <td>-99.126244</td>\n",
       "      <td>Coyoacán</td>\n",
       "    </tr>\n",
       "  </tbody>\n",
       "</table>\n",
       "</div>"
      ],
      "text/plain": [
       "   Unnamed: 0  price_aprox_usd  surface_covered_in_m2        lat         lon  \\\n",
       "0          12         94022.66                   57.0  23.634501 -102.552788   \n",
       "1          21         70880.12                   56.0  19.402413  -99.095391   \n",
       "2          22         68228.99                   80.0  19.357820  -99.149406   \n",
       "3          23         24235.78                   60.0  19.504985  -99.208557   \n",
       "4          27         94140.20                   50.0  19.354219  -99.126244   \n",
       "\n",
       "         borough  \n",
       "0  Benito Juárez  \n",
       "1      Iztacalco  \n",
       "2  Benito Juárez  \n",
       "3   Azcapotzalco  \n",
       "4       Coyoacán  "
      ]
     },
     "execution_count": 15,
     "metadata": {},
     "output_type": "execute_result"
    }
   ],
   "source": [
    "# Use the wrangle function on the files and concatenate them to create the Dataframe\n",
    "frames = [wrangle(file) for file in files]\n",
    "df = pd.concat(frames, ignore_index=True)\n",
    "print(df.info())\n",
    "df.head()"
   ]
  },
  {
   "cell_type": "code",
   "execution_count": 16,
   "id": "e59074a9",
   "metadata": {},
   "outputs": [
    {
     "name": "stdout",
     "output_type": "stream",
     "text": [
      "<class 'pandas.core.frame.DataFrame'>\n",
      "RangeIndex: 5473 entries, 0 to 5472\n",
      "Data columns (total 5 columns):\n",
      " #   Column                 Non-Null Count  Dtype  \n",
      "---  ------                 --------------  -----  \n",
      " 0   price_aprox_usd        5473 non-null   float64\n",
      " 1   surface_covered_in_m2  5473 non-null   float64\n",
      " 2   lat                    5149 non-null   float64\n",
      " 3   lon                    5149 non-null   float64\n",
      " 4   borough                5473 non-null   object \n",
      "dtypes: float64(4), object(1)\n",
      "memory usage: 213.9+ KB\n"
     ]
    }
   ],
   "source": [
    "# Drop the Unnamed column\n",
    "df.drop(columns=\"Unnamed: 0\", inplace=True)\n",
    "df.info()"
   ]
  },
  {
   "cell_type": "code",
   "execution_count": null,
   "id": "f7defcd5",
   "metadata": {},
   "outputs": [],
   "source": []
  }
 ],
 "metadata": {
  "kernelspec": {
   "display_name": "Python 3 (ipykernel)",
   "language": "python",
   "name": "python3"
  },
  "language_info": {
   "codemirror_mode": {
    "name": "ipython",
    "version": 3
   },
   "file_extension": ".py",
   "mimetype": "text/x-python",
   "name": "python",
   "nbconvert_exporter": "python",
   "pygments_lexer": "ipython3",
   "version": "3.9.7"
  }
 },
 "nbformat": 4,
 "nbformat_minor": 5
}
